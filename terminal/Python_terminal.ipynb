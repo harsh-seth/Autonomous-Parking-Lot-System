{
 "cells": [
  {
   "cell_type": "code",
   "execution_count": 1,
   "metadata": {},
   "outputs": [],
   "source": [
    "# Tested on Ubuntu 18.04 run with sudo access\n",
    "import serial\n",
    "import time\n",
    "import requests"
   ]
  },
  {
   "cell_type": "code",
   "execution_count": 2,
   "metadata": {},
   "outputs": [],
   "source": [
    "def get_auth_token():    \n",
    "    res = requests.post('http://192.168.137.136:3000/authenticate',{'username':'admin','password':'admin1234'})\n",
    "    return res.json()['auth_token']\n",
    "# token = get_auth_token()\n",
    "\n",
    "def get_class(length):\n",
    "    for i in range(len(class_boundaries)-1):\n",
    "        if(length >= class_boundaries[i] and length < class_boundaries[i+1]):\n",
    "            return i\n"
   ]
  },
  {
   "cell_type": "code",
   "execution_count": 3,
   "metadata": {},
   "outputs": [],
   "source": [
    "#The following line is for serial over GPIO\n",
    "port = '/dev/ttyACM0'\n",
    "\n",
    "width_lane = 200\n",
    "class_boundaries = [150,165,180,200]\n",
    "\n",
    "ard = serial.Serial(port,9600,timeout=5)"
   ]
  },
  {
   "cell_type": "code",
   "execution_count": null,
   "metadata": {},
   "outputs": [
    {
     "name": "stdout",
     "output_type": "stream",
     "text": [
      "Length:137\r\n",
      "\n",
      "acc:AccessToken:AppRequest\n",
      "\n",
      "8pp83sbtyq800u4y8l8v8r9q00\n",
      "\n",
      "acc:\r\n",
      "\n"
     ]
    }
   ],
   "source": [
    "while (1):  \n",
    "    length = ard.readline() # read everything in the input buffer\n",
    "    accesstoken = ard.readline()\n",
    "    if(length.decode()!=\"\"):\n",
    "        print(length.decode())\n",
    "#         len_class = get_class(width_lane - int(length.decode().split(':')[1]))\n",
    "    if(accesstoken.decode()!=\"\"):\n",
    "        print(accesstoken.decode())\n",
    "        access_token = accesstoken.decode()"
   ]
  },
  {
   "cell_type": "code",
   "execution_count": null,
   "metadata": {},
   "outputs": [],
   "source": [
    "get_cla"
   ]
  }
 ],
 "metadata": {
  "kernelspec": {
   "display_name": "Python 3",
   "language": "python",
   "name": "python3"
  },
  "language_info": {
   "codemirror_mode": {
    "name": "ipython",
    "version": 3
   },
   "file_extension": ".py",
   "mimetype": "text/x-python",
   "name": "python",
   "nbconvert_exporter": "python",
   "pygments_lexer": "ipython3",
   "version": "3.6.7"
  }
 },
 "nbformat": 4,
 "nbformat_minor": 2
}
